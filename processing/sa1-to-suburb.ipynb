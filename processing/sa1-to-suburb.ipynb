{
 "cells": [
  {
   "cell_type": "markdown",
   "metadata": {},
   "source": [
    "Construct suburbs out of SA1 areas."
   ]
  },
  {
   "cell_type": "code",
   "execution_count": 1,
   "metadata": {},
   "outputs": [],
   "source": [
    "import pandas"
   ]
  },
  {
   "cell_type": "code",
   "execution_count": 15,
   "metadata": {},
   "outputs": [],
   "source": [
    "import shapefile\n",
    "from shapely.geometry import shape\n",
    "from tqdm import tqdm_notebook as tqdm"
   ]
  },
  {
   "cell_type": "code",
   "execution_count": 57,
   "metadata": {},
   "outputs": [
    {
     "data": {
      "application/vnd.jupyter.widget-view+json": {
       "model_id": "12940197b67b49b596603ab2c776e2f7",
       "version_major": 2,
       "version_minor": 0
      },
      "text/plain": [
       "HBox(children=(IntProgress(value=0, max=109880), HTML(value='')))"
      ]
     },
     "metadata": {},
     "output_type": "display_data"
    }
   ],
   "source": [
    "sa1_shape = shapefile.Reader('../shapesnsw/MB_2016_NSW')\n",
    "sa1_records = [r for r in sa1_shape.records()]\n",
    "sa1_shape = [shape(s) if s.shapeType != 0 else None for s in tqdm(sa1_shape.shapes())]"
   ]
  },
  {
   "cell_type": "code",
   "execution_count": 61,
   "metadata": {},
   "outputs": [
    {
     "data": {
      "application/vnd.jupyter.widget-view+json": {
       "model_id": "8f8bfc7f5b4e4fc08d222ab535fd4d2c",
       "version_major": 2,
       "version_minor": 0
      },
      "text/plain": [
       "HBox(children=(IntProgress(value=0, max=4592), HTML(value='')))"
      ]
     },
     "metadata": {},
     "output_type": "display_data"
    }
   ],
   "source": [
    "suburb_shape = shapefile.Reader('../NSW_LOCALITY_POLYGON_shp/NSW_LOCALITY_POLYGON_shp')\n",
    "suburb_records = [r for r in suburb_shape.records()]\n",
    "suburb_shape = [shape(s) for s in tqdm(suburb_shape.shapes())]"
   ]
  },
  {
   "cell_type": "code",
   "execution_count": 104,
   "metadata": {},
   "outputs": [
    {
     "data": {
      "application/vnd.jupyter.widget-view+json": {
       "model_id": "7181b9458bba4efca2b22011fd7ca7c6",
       "version_major": 2,
       "version_minor": 0
      },
      "text/plain": [
       "HBox(children=(IntProgress(value=0, max=109879), HTML(value='')))"
      ]
     },
     "metadata": {},
     "output_type": "display_data"
    }
   ],
   "source": [
    "sa1_to_suburb = {}  # SA1_7DIG16 -> LC_PLY_PID\n",
    "for s, r in zip(tqdm(sa1_shape[1:]), sa1_records[1:]):\n",
    "    if not 116 <= int(r.SA2_MAIN16[:3]) <= 128:\n",
    "        continue\n",
    "    if not s:\n",
    "        continue\n",
    "    suburb_to_overlap = {}\n",
    "    for suburb, subr in zip(suburb_shape, suburb_records):\n",
    "        if not suburb.overlaps(s):\n",
    "            continue\n",
    "        suburb_to_overlap[subr.LC_PLY_PID] = suburb.intersection(s).area\n",
    "    if not suburb_to_overlap:\n",
    "        continue\n",
    "    suburb = max(suburb_to_overlap, key=suburb_to_overlap.get)\n",
    "    sa1_to_suburb[r.SA1_7DIG16] = suburb"
   ]
  },
  {
   "cell_type": "code",
   "execution_count": 96,
   "metadata": {},
   "outputs": [
    {
     "data": {
      "text/plain": [
       "4592"
      ]
     },
     "execution_count": 96,
     "metadata": {},
     "output_type": "execute_result"
    }
   ],
   "source": [
    "len({r.LC_PLY_PID for r in suburb_records})"
   ]
  },
  {
   "cell_type": "code",
   "execution_count": 87,
   "metadata": {},
   "outputs": [],
   "source": [
    "r = suburb_records[0]"
   ]
  },
  {
   "cell_type": "code",
   "execution_count": 106,
   "metadata": {},
   "outputs": [],
   "source": [
    "import json\n",
    "with open('sa1_to_suburb.json', 'w') as f:\n",
    "    json.dump(sa1_to_suburb, f)"
   ]
  },
  {
   "cell_type": "code",
   "execution_count": 107,
   "metadata": {},
   "outputs": [],
   "source": [
    "suburb_names = {r.LC_PLY_PID: r.NSW_LOCA_2 for r in suburb_records}"
   ]
  },
  {
   "cell_type": "code",
   "execution_count": 109,
   "metadata": {},
   "outputs": [],
   "source": [
    "with open('suburb_names.json', 'w') as f:\n",
    "    json.dump(suburb_names, f)"
   ]
  },
  {
   "cell_type": "code",
   "execution_count": null,
   "metadata": {},
   "outputs": [],
   "source": []
  }
 ],
 "metadata": {
  "kernelspec": {
   "display_name": "Python 3",
   "language": "python",
   "name": "python3"
  },
  "language_info": {
   "codemirror_mode": {
    "name": "ipython",
    "version": 3
   },
   "file_extension": ".py",
   "mimetype": "text/x-python",
   "name": "python",
   "nbconvert_exporter": "python",
   "pygments_lexer": "ipython3",
   "version": "3.7.0"
  }
 },
 "nbformat": 4,
 "nbformat_minor": 2
}
