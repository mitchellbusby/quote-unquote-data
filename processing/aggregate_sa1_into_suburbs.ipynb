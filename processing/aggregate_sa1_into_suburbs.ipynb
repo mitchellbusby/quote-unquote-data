{
 "cells": [
  {
   "cell_type": "code",
   "execution_count": 1,
   "metadata": {},
   "outputs": [],
   "source": [
    "# get_regions dumps sa2_regions"
   ]
  },
  {
   "cell_type": "code",
   "execution_count": 30,
   "metadata": {},
   "outputs": [],
   "source": [
    "import json, collections\n",
    "import numpy"
   ]
  },
  {
   "cell_type": "code",
   "execution_count": 47,
   "metadata": {},
   "outputs": [],
   "source": [
    "with open('../app/data/sa2_regions.json') as f:\n",
    "    sa1_regions = json.load(f)"
   ]
  },
  {
   "cell_type": "code",
   "execution_count": 48,
   "metadata": {},
   "outputs": [],
   "source": [
    "with open('../app/data/suburb_names.json') as f:\n",
    "    suburbs = json.load(f)"
   ]
  },
  {
   "cell_type": "code",
   "execution_count": 49,
   "metadata": {},
   "outputs": [],
   "source": [
    "with open('../app/data/sa1_to_suburb.json') as f:\n",
    "    sa1_to_suburb = json.load(f)\n",
    "suburb_to_sa1s = collections.defaultdict(list)\n",
    "for sa1, suburb in sa1_to_suburb.items():\n",
    "    suburb_to_sa1s[suburb].append(sa1)"
   ]
  },
  {
   "cell_type": "code",
   "execution_count": 50,
   "metadata": {},
   "outputs": [],
   "source": [
    "sa1_to_sa1_regions = {r['sa2']:r for r in sa1_regions}"
   ]
  },
  {
   "cell_type": "code",
   "execution_count": 53,
   "metadata": {},
   "outputs": [
    {
     "name": "stderr",
     "output_type": "stream",
     "text": [
      "/Library/Frameworks/Python.framework/Versions/3.7/lib/python3.7/site-packages/ipykernel_launcher.py:12: RuntimeWarning: Mean of empty slice\n",
      "  if sys.path[0] == '':\n"
     ]
    }
   ],
   "source": [
    "suburb_regions = []\n",
    "for suburb_id, suburb_name in suburbs.items():\n",
    "    constituents = [sa1_to_sa1_regions[sa1] for sa1 in suburb_to_sa1s[suburb_id]]\n",
    "    if not constituents:\n",
    "        continue\n",
    "    d = dict(\n",
    "        id=suburb_id,\n",
    "        name=suburb_name,\n",
    "    )\n",
    "    meanable = 'lon', 'lat', 'religious', 'unemployment', 'rental_rate', 'median_rent', 'income'\n",
    "    for m in meanable:\n",
    "        d[m] = numpy.nanmean([c[m] for c in constituents])\n",
    "    d['income_level'] = int(round(numpy.nanmean([c['income_level'] for c in constituents])))\n",
    "    d['population'] = int(numpy.nansum([c['population'] for c in constituents]))\n",
    "    d['sa1'] = suburb_to_sa1s[suburb_id]\n",
    "    d['zoning'] = {k: 0 for k in 'RCIPWU'}\n",
    "    d['businesses'] = list(numpy.mean([c['businesses'] for c in constituents], axis=0))\n",
    "    for c in constituents:\n",
    "        for z in d['zoning']:\n",
    "            d['zoning'][z] += c['zoning'].get(z, 0) / len(constituents)\n",
    "    suburb_regions.append(d)"
   ]
  },
  {
   "cell_type": "code",
   "execution_count": 46,
   "metadata": {},
   "outputs": [],
   "source": [
    "with open('../app/data/suburb_regions.json', 'w') as f:\n",
    "    json.dump(suburb_regions, f)"
   ]
  },
  {
   "cell_type": "code",
   "execution_count": null,
   "metadata": {},
   "outputs": [],
   "source": []
  }
 ],
 "metadata": {
  "kernelspec": {
   "display_name": "Python 3",
   "language": "python",
   "name": "python3"
  },
  "language_info": {
   "codemirror_mode": {
    "name": "ipython",
    "version": 3
   },
   "file_extension": ".py",
   "mimetype": "text/x-python",
   "name": "python",
   "nbconvert_exporter": "python",
   "pygments_lexer": "ipython3",
   "version": "3.7.0"
  }
 },
 "nbformat": 4,
 "nbformat_minor": 2
}
