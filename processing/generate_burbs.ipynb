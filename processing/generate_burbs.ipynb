{
 "cells": [
  {
   "cell_type": "markdown",
   "metadata": {},
   "source": [
    "We'll estimate a density function of SA1s, then cat SA1s together."
   ]
  },
  {
   "cell_type": "code",
   "execution_count": 25,
   "metadata": {},
   "outputs": [],
   "source": [
    "import json, numpy"
   ]
  },
  {
   "cell_type": "code",
   "execution_count": 14,
   "metadata": {},
   "outputs": [],
   "source": [
    "with open('../app/data/suburb_regions.json') as f:\n",
    "    suburbs = json.load(f)"
   ]
  },
  {
   "cell_type": "code",
   "execution_count": 4,
   "metadata": {},
   "outputs": [],
   "source": [
    "with open('../app/data/sa2_regions.json') as f:\n",
    "    sa1s = json.load(f)"
   ]
  },
  {
   "cell_type": "code",
   "execution_count": 72,
   "metadata": {},
   "outputs": [],
   "source": [
    "import sklearn.neighbors, sklearn.preprocessing"
   ]
  },
  {
   "cell_type": "code",
   "execution_count": 73,
   "metadata": {},
   "outputs": [],
   "source": [
    "kde = sklearn.neighbors.KernelDensity()\n",
    "scaler = sklearn.preprocessing.StandardScaler()"
   ]
  },
  {
   "cell_type": "code",
   "execution_count": 47,
   "metadata": {},
   "outputs": [],
   "source": [
    "feature_names = [\n",
    "    'rental_rate',\n",
    "    'median_rent',\n",
    "    'income',\n",
    "    'religious',\n",
    "    'population',\n",
    "    'unemployment',\n",
    "]\n",
    "\n",
    "rows_and_columns = []\n",
    "for region in sa1s:\n",
    "    features = [region[feature] for feature in feature_names]\n",
    "    for zone_type in \"RCIWP\":\n",
    "        features.append(region['zoning'].get(zone_type, 0))\n",
    "    rows_and_columns.append(numpy.nan_to_num(features))"
   ]
  },
  {
   "cell_type": "code",
   "execution_count": 75,
   "metadata": {},
   "outputs": [],
   "source": [
    "scaled_features = scaler.fit_transform(rows_and_columns)"
   ]
  },
  {
   "cell_type": "code",
   "execution_count": 78,
   "metadata": {},
   "outputs": [
    {
     "data": {
      "text/plain": [
       "KernelDensity(algorithm='auto', atol=0, bandwidth=1.0, breadth_first=True,\n",
       "       kernel='gaussian', leaf_size=40, metric='euclidean',\n",
       "       metric_params=None, rtol=0)"
      ]
     },
     "execution_count": 78,
     "metadata": {},
     "output_type": "execute_result"
    }
   ],
   "source": [
    "kde.fit(scaled_features)"
   ]
  },
  {
   "cell_type": "code",
   "execution_count": 94,
   "metadata": {},
   "outputs": [],
   "source": [
    "def sample_sa1():\n",
    "    sample = kde.sample()\n",
    "    sample = scaler.inverse_transform(sample)\n",
    "    sample[0, :][sample[0, :] < 0] = 0\n",
    "    sa1 = dict(zip(feature_names, sample[0]))\n",
    "    sa1['zoning'] = {}\n",
    "    sample[0, -5:] = numpy.clip(sample[0, -5:], 0, 10000)\n",
    "    sample[0, -5:] /= sample[0, -5:].sum()\n",
    "    sample[0, -5:] *= 10000\n",
    "    assert all(sample[0] >= 0)\n",
    "    for zone_type, s in zip(\"RCIWP\", sample[0, -5:]):\n",
    "        sa1['zoning'][zone_type] = numpy.clip(s, 0, 10000)\n",
    "    finance_pc = numpy.array([  1261.91,   1843.  , 100000.  ])\n",
    "    sa1['income_level'] = int((sa1['income'] < finance_pc).argmax() + 1)\n",
    "    return sa1"
   ]
  },
  {
   "cell_type": "code",
   "execution_count": 95,
   "metadata": {},
   "outputs": [
    {
     "data": {
      "text/plain": [
       "{'rental_rate': 0.0,\n",
       " 'median_rent': 707.1792815044342,\n",
       " 'income': 1576.4728714166088,\n",
       " 'religious': 0.8175779011343542,\n",
       " 'population': 364.2365097554806,\n",
       " 'unemployment': 0.0240452738050246,\n",
       " 'zoning': {'R': 6688.060795265839,\n",
       "  'C': 1852.197497941839,\n",
       "  'I': 0.0,\n",
       "  'W': 35.998444923152995,\n",
       "  'P': 1423.7432618691696},\n",
       " 'income_level': 2}"
      ]
     },
     "execution_count": 95,
     "metadata": {},
     "output_type": "execute_result"
    }
   ],
   "source": [
    "sample_sa1()"
   ]
  },
  {
   "cell_type": "code",
   "execution_count": null,
   "metadata": {},
   "outputs": [],
   "source": []
  },
  {
   "cell_type": "code",
   "execution_count": null,
   "metadata": {},
   "outputs": [],
   "source": []
  }
 ],
 "metadata": {
  "kernelspec": {
   "display_name": "Python 3",
   "language": "python",
   "name": "python3"
  },
  "language_info": {
   "codemirror_mode": {
    "name": "ipython",
    "version": 3
   },
   "file_extension": ".py",
   "mimetype": "text/x-python",
   "name": "python",
   "nbconvert_exporter": "python",
   "pygments_lexer": "ipython3",
   "version": "3.7.0"
  }
 },
 "nbformat": 4,
 "nbformat_minor": 2
}
