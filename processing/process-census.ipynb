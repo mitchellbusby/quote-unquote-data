{
 "cells": [
  {
   "cell_type": "markdown",
   "metadata": {},
   "source": [
    "In this notebook we take the census data and obtain a few key details for each SA1 region, storing each SA1 region as a JSON file. We'll start with just density, zoning, and finance information.\n",
    "\n",
    "- density info from G01A (Total Persons)\n",
    "- zoning from the EPI zone WMS\n",
    "- finance from G02 (median household income)\n",
    "\n",
    "What else might we want?"
   ]
  },
  {
   "cell_type": "code",
   "execution_count": 6,
   "metadata": {},
   "outputs": [],
   "source": [
    "import pandas, shapefile\n",
    "from tqdm import tqdm_notebook as tqdm\n",
    "import numpy\n",
    "from matplotlib import pyplot as plt\n",
    "import json"
   ]
  },
  {
   "cell_type": "code",
   "execution_count": 86,
   "metadata": {},
   "outputs": [],
   "source": [
    "g02 = pandas.read_csv(\n",
    "    '../2016 Census GCP Statistical Area 1 for NSW/'\n",
    "    '/2016Census_G02_NSW_SA1.csv').set_index('SA1_7DIGITCODE_2016')\n",
    "g01 = pandas.read_csv(\n",
    "    '../2016 Census GCP Statistical Area 1 for NSW/'\n",
    "    '/2016Census_G01_NSW_SA1.csv').set_index('SA1_7DIGITCODE_2016')\n",
    "# G14 [religion]\n",
    "g14 = pandas.read_csv(\n",
    "    '../2016 Census GCP Statistical Area 1 for NSW/'\n",
    "    '/2016Census_G14_NSW_SA1.csv').set_index('SA1_7DIGITCODE_2016')\n",
    "# G43 [unemployment rate]\n",
    "g43 = pandas.read_csv(\n",
    "    '../2016 Census GCP Statistical Area 1 for NSW/'\n",
    "    '/2016Census_G43B_NSW_SA1.csv').set_index('SA1_7DIGITCODE_2016')\n",
    "# G33 [% renting]\n",
    "g33 = pandas.read_csv(\n",
    "    '../2016 Census GCP Statistical Area 1 for NSW/'\n",
    "    '/2016Census_G33_NSW_SA1.csv').set_index('SA1_7DIGITCODE_2016')\n",
    "\n",
    "# G02 [median rent weekly]\n",
    "median_weekly_rent = pandas.read_csv(\n",
    "    '../2016 Census GCP Statistical Area 1 for NSW/'\n",
    "    '/2016Census_G02_NSW_SA1.csv').set_index('SA1_7DIGITCODE_2016')\n"
   ]
  },
  {
   "cell_type": "code",
   "execution_count": 87,
   "metadata": {
    "scrolled": true
   },
   "outputs": [
    {
     "data": {
      "text/plain": [
       "['Median_age_persons',\n",
       " 'Median_mortgage_repay_monthly',\n",
       " 'Median_tot_prsnl_inc_weekly',\n",
       " 'Median_rent_weekly',\n",
       " 'Median_tot_fam_inc_weekly',\n",
       " 'Average_num_psns_per_bedroom',\n",
       " 'Median_tot_hhd_inc_weekly',\n",
       " 'Average_household_size']"
      ]
     },
     "execution_count": 87,
     "metadata": {},
     "output_type": "execute_result"
    }
   ],
   "source": [
    "list(g02.columns)"
   ]
  },
  {
   "cell_type": "code",
   "execution_count": 14,
   "metadata": {},
   "outputs": [],
   "source": [
    "with open('../zone-info-sydney.json') as f:\n",
    "    zoning = json.load(f)"
   ]
  },
  {
   "cell_type": "code",
   "execution_count": 12,
   "metadata": {},
   "outputs": [],
   "source": [
    "with open('../sa1_seven_to_sixteen.json') as f:\n",
    "    sa1_seven_to_sixteen = json.load(f)"
   ]
  },
  {
   "cell_type": "code",
   "execution_count": 15,
   "metadata": {},
   "outputs": [],
   "source": [
    "sa1_sixteen_to_seven = {v: k for k, v in sa1_seven_to_sixteen.items()}"
   ]
  },
  {
   "cell_type": "code",
   "execution_count": 16,
   "metadata": {},
   "outputs": [],
   "source": [
    "zoning = {sa1_sixteen_to_seven[k]: v for k, v in zoning.items()}"
   ]
  },
  {
   "cell_type": "code",
   "execution_count": 17,
   "metadata": {},
   "outputs": [],
   "source": [
    "pops = g01.Tot_P_P"
   ]
  },
  {
   "cell_type": "code",
   "execution_count": 18,
   "metadata": {},
   "outputs": [],
   "source": [
    "finance = g02.Median_tot_hhd_inc_weekly"
   ]
  },
  {
   "cell_type": "code",
   "execution_count": 40,
   "metadata": {},
   "outputs": [
    {
     "data": {
      "text/plain": [
       "SA1_7DIGITCODE_2016\n",
       "1100701    0.563380\n",
       "1100702    0.729231\n",
       "1100703    0.622396\n",
       "1100704    0.571429\n",
       "1100705    0.623529\n",
       "             ...   \n",
       "1160910    0.761194\n",
       "1949999    0.586025\n",
       "1979991         NaN\n",
       "1979992    0.000000\n",
       "1979993    0.750716\n",
       "Length: 18399, dtype: float64"
      ]
     },
     "execution_count": 40,
     "metadata": {},
     "output_type": "execute_result"
    }
   ],
   "source": [
    "# religio\n",
    "religion = 1 - (g14.SB_OSB_NRA_Tot_P / (g14.Tot_P - g14.Religious_affiliation_ns_P))"
   ]
  },
  {
   "cell_type": "code",
   "execution_count": 72,
   "metadata": {},
   "outputs": [],
   "source": [
    "# unemployment %\n",
    "unemployed_rate = g43.P_Tot_Unemp_Tot / g43.P_Tot_Tot"
   ]
  },
  {
   "cell_type": "code",
   "execution_count": 78,
   "metadata": {},
   "outputs": [],
   "source": [
    "# rental rate %\n",
    "\n",
    "rental_rate = g33.R_Tot_Total / g33.Total_Total"
   ]
  },
  {
   "cell_type": "code",
   "execution_count": 88,
   "metadata": {},
   "outputs": [],
   "source": [
    "median_rent = g02.Median_rent_weekly"
   ]
  },
  {
   "cell_type": "code",
   "execution_count": 20,
   "metadata": {},
   "outputs": [],
   "source": [
    "shape = shapefile.Reader('../shapesnsw/MB_2016_NSW')"
   ]
  },
  {
   "cell_type": "code",
   "execution_count": 21,
   "metadata": {},
   "outputs": [
    {
     "data": {
      "application/vnd.jupyter.widget-view+json": {
       "model_id": "e03e91cfb1b846f6809700902a6ccf5e",
       "version_major": 2,
       "version_minor": 0
      },
      "text/plain": [
       "HBox(children=(IntProgress(value=0, max=109880), HTML(value='')))"
      ]
     },
     "metadata": {},
     "output_type": "display_data"
    },
    {
     "name": "stdout",
     "output_type": "stream",
     "text": [
      "\n"
     ]
    }
   ],
   "source": [
    "sa2_to_name = {}\n",
    "sa2_to_coords = {}\n",
    "for sr in tqdm(shape.shapeRecords()):\n",
    "    sa2, name = sr.record.SA1_7DIG16, sr.record.SA2_NAME16\n",
    "    sa2_to_name[int(sa2)] = name\n",
    "    if len(sr.shape.points) > 0:\n",
    "        sa2_to_coords[sa2] = numpy.mean(sr.shape.points, axis=0)"
   ]
  },
  {
   "cell_type": "code",
   "execution_count": 22,
   "metadata": {},
   "outputs": [
    {
     "data": {
      "image/png": "[encoded data removed]",
      "text/plain": [
       "<Figure size 432x288 with 1 Axes>"
      ]
     },
     "metadata": {
      "needs_background": "light"
     },
     "output_type": "display_data"
    }
   ],
   "source": [
    "plt.hist(finance)\n",
    "finance_pc = numpy.percentile(finance[finance > 0], [33, 66])\n",
    "for p in finance_pc:\n",
    "    plt.axvline(p, color='k')\n",
    "finance_pc = numpy.append(finance_pc, 100000)"
   ]
  },
  {
   "cell_type": "code",
   "execution_count": 94,
   "metadata": {},
   "outputs": [],
   "source": [
    "deets = []\n",
    "for sa2, pop, fin, religious in zip(g01.index, pops, finance, religion):\n",
    "    name = sa2_to_name[sa2]\n",
    "    if str(sa2) not in zoning:\n",
    "        continue\n",
    "    deets.append(dict(\n",
    "        name=name,\n",
    "        sa2=str(sa2),\n",
    "        lon=sa2_to_coords[str(sa2)][0],\n",
    "        lat=sa2_to_coords[str(sa2)][1],\n",
    "        zoning=zoning[str(sa2)],\n",
    "        population=pop,\n",
    "        income=fin,\n",
    "        income_level=int((fin < finance_pc).argmax() + 1),\n",
    "        religious=religious,\n",
    "        unemployment=unemployed_rate[sa2],\n",
    "        rental_rate=rental_rate.loc[sa2],\n",
    "        median_rent=int(median_rent.loc[sa2]),\n",
    "    ))\n"
   ]
  },
  {
   "cell_type": "code",
   "execution_count": 95,
   "metadata": {},
   "outputs": [],
   "source": [
    "with open('sa2_regions.json', 'w') as f:\n",
    "    json.dump(deets, f)"
   ]
  },
  {
   "cell_type": "code",
   "execution_count": 92,
   "metadata": {},
   "outputs": [
    {
     "data": {
      "text/plain": [
       "{'name': 'Blacktown (East) - Kings Park',\n",
       " 'sa2': '1130301',\n",
       " 'lon': 150.92304244455565,\n",
       " 'lat': -33.75371430466663,\n",
       " 'zoning': {'R': 10000},\n",
       " 'population': 216,\n",
       " 'income': 1875,\n",
       " 'income_level': 3,\n",
       " 'religious': 0.8221153846153846,\n",
       " 'unemployment': 0.07142857142857142,\n",
       " 'rental_rate': 0.38028169014084506,\n",
       " 'median_rent': 400}"
      ]
     },
     "execution_count": 92,
     "metadata": {},
     "output_type": "execute_result"
    }
   ],
   "source": [
    "deets[0]"
   ]
  },
  {
   "cell_type": "code",
   "execution_count": null,
   "metadata": {},
   "outputs": [],
   "source": []
  }
 ],
 "metadata": {
  "kernelspec": {
   "display_name": "Python 3",
   "language": "python",
   "name": "python3"
  },
  "language_info": {
   "codemirror_mode": {
    "name": "ipython",
    "version": 3
   },
   "file_extension": ".py",
   "mimetype": "text/x-python",
   "name": "python",
   "nbconvert_exporter": "python",
   "pygments_lexer": "ipython3",
   "version": "3.7.4"
  }
 },
 "nbformat": 4,
 "nbformat_minor": 2
}
