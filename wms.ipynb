{
 "cells": [
  {
   "cell_type": "code",
   "execution_count": 1,
   "metadata": {},
   "outputs": [],
   "source": [
    "import collections\n",
    "\n",
    "from owslib.wms import WebMapService\n",
    "import matplotlib.pyplot as plt\n",
    "import skimage.io, numpy\n",
    "from tqdm import tqdm_notebook as tqdm\n",
    "import skimage.color\n",
    "import multiprocessing.pool"
   ]
  },
  {
   "cell_type": "code",
   "execution_count": 2,
   "metadata": {},
   "outputs": [],
   "source": [
    "import xml.etree.ElementTree as ET\n",
    "root = ET.parse('epilzn.xml').getroot()\n",
    "rules = list(root[0][1][1])"
   ]
  },
  {
   "cell_type": "code",
   "execution_count": 3,
   "metadata": {},
   "outputs": [
    {
     "data": {
      "text/plain": [
       "{(201, 255, 249): 'B1',\n",
       " (98, 240, 245): 'B2',\n",
       " (0, 194, 237): 'B3',\n",
       " (149, 157, 194): 'B4',\n",
       " (125, 160, 171): 'B5',\n",
       " (149, 191, 204): 'B6',\n",
       " (186, 214, 222): 'B7',\n",
       " (200, 230, 224): 'B8',\n",
       " (255, 255, 255): 'UL',\n",
       " (230, 153, 0): 'E1',\n",
       " (240, 174, 60): 'E2',\n",
       " (247, 197, 104): 'E3',\n",
       " (255, 218, 150): 'E4',\n",
       " (221, 184, 245): 'IN1',\n",
       " (243, 219, 255): 'IN2',\n",
       " (197, 149, 232): 'IN3',\n",
       " (174, 115, 222): 'IN4',\n",
       " (255, 207, 255): 'R1',\n",
       " (255, 166, 163): 'R2',\n",
       " (255, 119, 110): 'R3',\n",
       " (255, 72, 59): 'R4',\n",
       " (255, 217, 217): 'R5',\n",
       " (85, 255, 0): 'RE1',\n",
       " (211, 255, 190): 'RE2',\n",
       " (237, 216, 173): 'RU1',\n",
       " (230, 202, 151): 'RU2',\n",
       " (222, 192, 131): 'RU3',\n",
       " (214, 188, 111): 'RU4',\n",
       " (214, 161, 156): 'RU5',\n",
       " (199, 158, 76): 'RU6',\n",
       " (255, 255, 161): 'SP1',\n",
       " (255, 255, 112): 'SP2',\n",
       " (255, 255, 0): 'SP3',\n",
       " (255, 127, 99): 'UD',\n",
       " (217, 255, 242): 'W1',\n",
       " (153, 255, 221): 'W2',\n",
       " (51, 255, 187): 'W3',\n",
       " (209, 95, 185): None}"
      ]
     },
     "execution_count": 3,
     "metadata": {},
     "output_type": "execute_result"
    }
   ],
   "source": [
    "colour_to_rule = {}\n",
    "for rule in rules:\n",
    "    name = rule[0].text\n",
    "    colour = rule[3][0][0].text\n",
    "    colour = int(colour[1:3], 16), int(colour[3:5], 16), int(colour[5:7], 16)\n",
    "    colour_to_rule[colour] = name\n",
    "colour_to_rule"
   ]
  },
  {
   "cell_type": "code",
   "execution_count": 34,
   "metadata": {},
   "outputs": [
    {
     "data": {
      "application/vnd.jupyter.widget-view+json": {
       "model_id": "e883a76183b140d5b6482c9530e094a7",
       "version_major": 2,
       "version_minor": 0
      },
      "text/plain": [
       "HBox(children=(IntProgress(value=0, max=109880), HTML(value='')))"
      ]
     },
     "metadata": {},
     "output_type": "display_data"
    }
   ],
   "source": [
    "import shapefile\n",
    "shape = shapefile.Reader('shapesnsw/MB_2016_NSW')\n",
    "\n",
    "sa2_to_name = {}\n",
    "sa2_to_coords = {}\n",
    "sa2_to_points = {}\n",
    "sa2_seven_to_sixteen = {}\n",
    "for sr in tqdm(shape.shapeRecords()):\n",
    "    sa2, name = sr.record.SA1_MAIN16, sr.record.SA2_NAME16\n",
    "    sa2_to_name[int(sa2)] = name\n",
    "    sa2_seven_to_sixteen[sr.record.SA1_7DIG16] = sr.record.SA1_MAIN16\n",
    "    if len(sr.shape.points) > 0:\n",
    "        sa2_to_coords[sa2] = numpy.mean(sr.shape.points, axis=0)\n",
    "        sa2_to_points[sa2] = sr.shape.points"
   ]
  },
  {
   "cell_type": "code",
   "execution_count": 35,
   "metadata": {},
   "outputs": [],
   "source": [
    "with open('sa1_seven_to_sixteen.json', 'w') as f:\n",
    "    json.dump(sa2_seven_to_sixteen, f)"
   ]
  },
  {
   "cell_type": "code",
   "execution_count": 16,
   "metadata": {},
   "outputs": [],
   "source": [
    "sa2s = sorted([sa2 for sa2 in list(sa2_to_coords) if 116 <= int(sa2[:3]) <= 128])"
   ]
  },
  {
   "cell_type": "code",
   "execution_count": 17,
   "metadata": {},
   "outputs": [
    {
     "data": {
      "text/plain": [
       "'19797979992'"
      ]
     },
     "execution_count": 17,
     "metadata": {},
     "output_type": "execute_result"
    }
   ],
   "source": [
    "sr.record.SA1_MAIN16"
   ]
  },
  {
   "cell_type": "code",
   "execution_count": 18,
   "metadata": {},
   "outputs": [],
   "source": [
    "wms = WebMapService('https://mapprod1.environment.nsw.gov.au/arcgis/services/Planning/EPI_Primary_Planning_Layers/MapServer/WMSServer?request=GetCapabilities&service=WMS', version='1.1.1')"
   ]
  },
  {
   "cell_type": "code",
   "execution_count": 19,
   "metadata": {},
   "outputs": [
    {
     "data": {
      "text/plain": [
       "['0', '1', '2', '3', '4', '5', '6']"
      ]
     },
     "execution_count": 19,
     "metadata": {},
     "output_type": "execute_result"
    }
   ],
   "source": [
    "list(wms.contents)"
   ]
  },
  {
   "cell_type": "code",
   "execution_count": 20,
   "metadata": {},
   "outputs": [
    {
     "data": {
      "text/plain": [
       "'Land Zoning'"
      ]
     },
     "execution_count": 20,
     "metadata": {},
     "output_type": "execute_result"
    }
   ],
   "source": [
    "wms['4'].title"
   ]
  },
  {
   "cell_type": "code",
   "execution_count": 21,
   "metadata": {},
   "outputs": [
    {
     "data": {
      "text/plain": [
       "{'default': {'title': '4',\n",
       "  'legend': 'http://mapprod1.environment.nsw.gov.au/arcgis/services/Planning/EPI_Primary_Planning_Layers/MapServer/WmsServer?request=GetLegendGraphic%26version=1.1.1%26format=image/png%26layer=4'}}"
      ]
     },
     "execution_count": 21,
     "metadata": {},
     "output_type": "execute_result"
    }
   ],
   "source": [
    "wms['4'].styles"
   ]
  },
  {
   "cell_type": "code",
   "execution_count": 22,
   "metadata": {},
   "outputs": [
    {
     "data": {
      "text/plain": [
       "['GetCapabilities', 'GetMap', 'GetFeatureInfo', 'GetStyles']"
      ]
     },
     "execution_count": 22,
     "metadata": {},
     "output_type": "execute_result"
    }
   ],
   "source": [
    "[op.name for op in wms.operations]"
   ]
  },
  {
   "cell_type": "code",
   "execution_count": 23,
   "metadata": {},
   "outputs": [],
   "source": [
    "c_zones = {'B1', 'B2', 'B3', 'B4', 'B5',\n",
    "           'B6', 'B7', 'B8', 'SP3'}\n",
    "park_zones = {'E1', 'E2', 'E3', 'E4', 'RE1',\n",
    "              'RE2', 'RU1', 'RU2', 'RU3',\n",
    "              'RU4'}\n",
    "water_zones = {'W1', 'W2', 'W3'}\n",
    "i_zones = {'IN1', 'IN2', 'IN3', 'IN4'}\n",
    "r_zones = {'R1', 'R2', 'R3', 'R4', 'R5',\n",
    "           'RU5'}"
   ]
  },
  {
   "cell_type": "code",
   "execution_count": 24,
   "metadata": {},
   "outputs": [],
   "source": [
    "def get_zoning(sa2, timeout=10):\n",
    "    points = sa2_to_points[sa2]\n",
    "    bbox = numpy.concatenate([numpy.min(points, axis=0),\n",
    "                              numpy.max(points, axis=0)])\n",
    "    # Only need to do this if you're masking.\n",
    "#     width = bbox[2] - bbox[0]\n",
    "#     height = bbox[3] - bbox[1]\n",
    "#     points = numpy.array(points)\n",
    "#     points[:, 0] -= bbox[0]\n",
    "#     points[:, 0] /= width / 100\n",
    "#     points[:, 1] -= bbox[1]\n",
    "#     points[:, 1] /= height / 100\n",
    "    while True:\n",
    "        try:\n",
    "            img = wms.getmap(\n",
    "                layers=['4'],\n",
    "                styles=['default'],\n",
    "                srs='EPSG:4326',\n",
    "                bbox=tuple(bbox),\n",
    "                size=(100, 100),\n",
    "                format='image/png',\n",
    "                timeout=timeout)\n",
    "            print('Got image for', sa2)\n",
    "            break\n",
    "        except KeyboardInterrupt:\n",
    "            break\n",
    "        except:\n",
    "            print('Connect timeout on', sa2)\n",
    "            continue\n",
    "    with open(f'itsajpg-{sa2}.jpg', 'wb') as out:\n",
    "        out.write(img.read())\n",
    "    img = skimage.io.imread(f'itsajpg-{sa2}.jpg')\n",
    "    zones = []\n",
    "    for px in img.reshape(-1, 3):\n",
    "        px = tuple(px)\n",
    "        if px == (0, 0, 0):\n",
    "            continue\n",
    "\n",
    "        rule = colour_to_rule.get(px, 'U')\n",
    "        if rule in c_zones:\n",
    "            z = 'C'\n",
    "        elif rule in park_zones:\n",
    "            z = 'P'\n",
    "        elif rule in water_zones:\n",
    "            z = 'W'\n",
    "        elif rule in i_zones:\n",
    "            z = 'I'\n",
    "        elif rule in r_zones:\n",
    "            z = 'R'\n",
    "        else:\n",
    "            z = 'U'\n",
    "        zones.append(z)\n",
    "    return collections.Counter(zones)"
   ]
  },
  {
   "cell_type": "code",
   "execution_count": null,
   "metadata": {},
   "outputs": [],
   "source": [
    "# sa2_to_zoning = {}\n",
    "pool = multiprocessing.pool.Pool(12)\n",
    "zones = list(tqdm(pool.imap(get_zoning, sa2s), total=len(sa2s)))"
   ]
  },
  {
   "cell_type": "code",
   "execution_count": null,
   "metadata": {
    "scrolled": true
   },
   "outputs": [],
   "source": [
    "# for sa2 in tqdm(sa2s):\n",
    "#     sa2_to_zoning[sa2] = get_zoning(sa2)"
   ]
  },
  {
   "cell_type": "code",
   "execution_count": null,
   "metadata": {},
   "outputs": [],
   "source": [
    "get_zoning(sa2, timeout=30)"
   ]
  },
  {
   "cell_type": "code",
   "execution_count": 27,
   "metadata": {},
   "outputs": [
    {
     "data": {
      "text/plain": [
       "9818"
      ]
     },
     "execution_count": 27,
     "metadata": {},
     "output_type": "execute_result"
    }
   ],
   "source": [
    "len(zones)"
   ]
  },
  {
   "cell_type": "code",
   "execution_count": 28,
   "metadata": {},
   "outputs": [],
   "source": [
    "import json"
   ]
  },
  {
   "cell_type": "code",
   "execution_count": 31,
   "metadata": {},
   "outputs": [],
   "source": [
    "with open('zone-info-sydney.json', 'w') as f:\n",
    "    json.dump(dict(zip(sa2s, zones)), f)"
   ]
  },
  {
   "cell_type": "code",
   "execution_count": null,
   "metadata": {},
   "outputs": [],
   "source": []
  }
 ],
 "metadata": {
  "kernelspec": {
   "display_name": "Python 3",
   "language": "python",
   "name": "python3"
  },
  "language_info": {
   "codemirror_mode": {
    "name": "ipython",
    "version": 3
   },
   "file_extension": ".py",
   "mimetype": "text/x-python",
   "name": "python",
   "nbconvert_exporter": "python",
   "pygments_lexer": "ipython3",
   "version": "3.7.0"
  }
 },
 "nbformat": 4,
 "nbformat_minor": 2
}
